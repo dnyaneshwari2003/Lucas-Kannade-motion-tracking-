{
  "cells": [
    {
      "cell_type": "code",
      "execution_count": null,
      "id": "1cdcdbf9-8510-432b-b67f-6aa07a66cc03",
      "metadata": {
        "id": "1cdcdbf9-8510-432b-b67f-6aa07a66cc03"
      },
      "outputs": [],
      "source": [
        "import cv2\n",
        "import numpy as np\n",
        "\n",
        "# Load the video\n",
        "video = cv2.VideoCapture('birdi.mp4')\n",
        "\n",
        "# Read the first frame\n",
        "ret, prev_frame = video.read()\n",
        "if not ret:\n",
        "    print(\"Error: Unable to read the video.\")\n",
        "    exit()\n",
        "\n",
        "# Convert the first frame to grayscale\n",
        "prev_gray = cv2.cvtColor(prev_frame, cv2.COLOR_BGR2GRAY)\n",
        "\n",
        "# Parameters for Lucas-Kanade Optical Flow\n",
        "lk_params = dict(\n",
        "    winSize=(15, 15),  # Window size\n",
        "    maxLevel=5,        # Level of scale (trajectory)\n",
        "    criteria=(cv2.TERM_CRITERIA_EPS | cv2.TERM_CRITERIA_COUNT, 10, 0.3)\n",
        ")\n",
        "\n",
        "# Detect good features to track\n",
        "prev_corners = cv2.goodFeaturesToTrack(prev_gray, mask=None, maxCorners=100, qualityLevel=0.3, minDistance=7, blockSize=7)\n",
        "\n",
        "# Create a mask for drawing\n",
        "mask = np.zeros_like(prev_frame)\n",
        "\n",
        "while True:\n",
        "    ret, curr_frame = video.read()\n",
        "    if not ret:\n",
        "        break\n",
        "\n",
        "    # Convert the current frame to grayscale\n",
        "    curr_gray = cv2.cvtColor(curr_frame, cv2.COLOR_BGR2GRAY)\n",
        "\n",
        "    # Calculate optical flow using Lucas-Kanade method\n",
        "    curr_corners, status, error = cv2.calcOpticalFlowPyrLK(prev_gray, curr_gray, prev_corners, None, **lk_params)\n",
        "\n",
        "    # Select the good points where flow was found\n",
        "    good_old = prev_corners[status == 1]\n",
        "    good_new = curr_corners[status == 1]\n",
        "\n",
        "    # Draw the tracks\n",
        "    for (old, new) in zip(good_old, good_new):\n",
        "        x_old, y_old = old.ravel()\n",
        "        x_new, y_new = new.ravel()\n",
        "        mask = cv2.line(mask, (int(x_old), int(y_old)), (int(x_new), int(y_new)), (0, 255, 0), 2)\n",
        "        curr_frame = cv2.circle(curr_frame, (int(x_new), int(y_new)), 5, (0, 0, 255), -1)\n",
        "\n",
        "    # Combine the current frame with the mask\n",
        "    output = cv2.add(curr_frame, mask)\n",
        "\n",
        "    # Display the result\n",
        "    cv2.imshow('Lucas-Kanade Optical Flow', output)\n",
        "\n",
        "    # Exit when the 'q' key is pressed\n",
        "    if cv2.waitKey(30) & 0xFF == ord('q'):\n",
        "        break\n",
        "\n",
        "    # Update the previous frame and points\n",
        "    prev_gray = curr_gray.copy()\n",
        "    prev_corners = good_new.reshape(-1, 1, 2)\n",
        "\n",
        "# Release the video capture object and close all OpenCV windows\n",
        "video.release()\n",
        "cv2.destroyAllWindows()"
      ]
    },
    {
      "cell_type": "code",
      "execution_count": null,
      "id": "b47c6fa0-8764-4912-9223-1ede40103ebd",
      "metadata": {
        "id": "b47c6fa0-8764-4912-9223-1ede40103ebd"
      },
      "outputs": [],
      "source": []
    },
    {
      "cell_type": "code",
      "execution_count": null,
      "id": "52d4d7dd-4d4f-4414-a8a7-391744aceb54",
      "metadata": {
        "id": "52d4d7dd-4d4f-4414-a8a7-391744aceb54"
      },
      "outputs": [],
      "source": []
    }
  ],
  "metadata": {
    "kernelspec": {
      "display_name": "Python 3 (ipykernel)",
      "language": "python",
      "name": "python3"
    },
    "language_info": {
      "codemirror_mode": {
        "name": "ipython",
        "version": 3
      },
      "file_extension": ".py",
      "mimetype": "text/x-python",
      "name": "python",
      "nbconvert_exporter": "python",
      "pygments_lexer": "ipython3",
      "version": "3.12.4"
    },
    "colab": {
      "provenance": []
    }
  },
  "nbformat": 4,
  "nbformat_minor": 5
}